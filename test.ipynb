{
 "cells": [
  {
   "cell_type": "code",
   "execution_count": 1,
   "metadata": {},
   "outputs": [],
   "source": [
    "from DecisionTree import *\n",
    "import numpy as np"
   ]
  },
  {
   "cell_type": "code",
   "execution_count": 2,
   "metadata": {},
   "outputs": [],
   "source": [
    "test_data = np.array([\n",
    "    [1, 1, 7, 0],\n",
    "    [1, 0, 12, 0],\n",
    "    [0, 1, 18, 1],\n",
    "    [0, 1, 35, 1],\n",
    "    [1, 1, 38, 1],\n",
    "    [1, 0, 50, 0],\n",
    "    [0, 0, 83, 0]\n",
    "], dtype=object)"
   ]
  },
  {
   "cell_type": "code",
   "execution_count": 3,
   "metadata": {},
   "outputs": [],
   "source": [
    "test1 = DecisionTree()\n",
    "test1.build_tree(data=test_data)"
   ]
  },
  {
   "cell_type": "code",
   "execution_count": 4,
   "metadata": {},
   "outputs": [
    {
     "name": "stdout",
     "output_type": "stream",
     "text": [
      "Feature 1 < 0.5\n",
      "Left:\n",
      "  Leaf: 0\n",
      "Right:\n",
      "  Feature 2 < 12.5\n",
      "  Left:\n",
      "    Leaf: 0\n",
      "  Right:\n",
      "    Leaf: 1\n"
     ]
    }
   ],
   "source": [
    "test1.print_tree()"
   ]
  }
 ],
 "metadata": {
  "kernelspec": {
   "display_name": "neuralNets",
   "language": "python",
   "name": "python3"
  },
  "language_info": {
   "codemirror_mode": {
    "name": "ipython",
    "version": 3
   },
   "file_extension": ".py",
   "mimetype": "text/x-python",
   "name": "python",
   "nbconvert_exporter": "python",
   "pygments_lexer": "ipython3",
   "version": "3.12.3"
  }
 },
 "nbformat": 4,
 "nbformat_minor": 2
}
